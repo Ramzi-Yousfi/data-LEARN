{
 "cells": [
  {
   "cell_type": "code",
   "execution_count": null,
   "metadata": {
    "collapsed": true
   },
   "outputs": [],
   "source": [
    "import numpy as np\n",
    "import pandas as pd"
   ]
  },
  {
   "cell_type": "code",
   "execution_count": null,
   "outputs": [],
   "source": [
    "df = pd.read_csv('C:\\\\Users\\\\RAMZI\\\\OneDrive\\\\Bureau\\\\data-project\\\\analyst\\\\_DATA\\\\movie_scores.csv')"
   ],
   "metadata": {
    "collapsed": false
   }
  },
  {
   "cell_type": "code",
   "execution_count": null,
   "outputs": [],
   "source": [
    "df.head()"
   ],
   "metadata": {
    "collapsed": false
   }
  },
  {
   "cell_type": "code",
   "execution_count": null,
   "outputs": [],
   "source": [
    "df.isnull()"
   ],
   "metadata": {
    "collapsed": false
   }
  },
  {
   "cell_type": "code",
   "execution_count": null,
   "outputs": [],
   "source": [
    "df.isnull().sum()"
   ],
   "metadata": {
    "collapsed": false
   }
  },
  {
   "cell_type": "code",
   "execution_count": null,
   "outputs": [],
   "source": [
    "df[df['pre_movie_score'].notnull()]"
   ],
   "metadata": {
    "collapsed": false
   }
  },
  {
   "cell_type": "code",
   "execution_count": null,
   "outputs": [],
   "source": [
    "df.dropna(axis=0, how='all', thresh=None, subset=None, inplace=False)"
   ],
   "metadata": {
    "collapsed": false
   }
  },
  {
   "cell_type": "code",
   "execution_count": null,
   "outputs": [],
   "source": [
    "df.dropna(axis=0, how='any', thresh=None, subset=['pre_movie_score'], inplace=False)"
   ],
   "metadata": {
    "collapsed": false
   }
  },
  {
   "cell_type": "code",
   "execution_count": null,
   "outputs": [],
   "source": [
    "df.dropna(axis=1, thresh=4, inplace=False)"
   ],
   "metadata": {
    "collapsed": false
   }
  },
  {
   "cell_type": "code",
   "execution_count": null,
   "outputs": [],
   "source": [
    "df.fillna(value=0, method=None, axis=None, inplace=False, limit=None, downcast=None)"
   ],
   "metadata": {
    "collapsed": false
   }
  },
  {
   "cell_type": "code",
   "execution_count": null,
   "outputs": [],
   "source": [
    "def fill_na_mean(df, column):\n",
    "    if df[column].dtype == 'float64' or df[column].dtype == 'int64':\n",
    "        df[column].fillna(df[column].mean(), inplace=True)"
   ],
   "metadata": {
    "collapsed": false
   }
  },
  {
   "cell_type": "code",
   "execution_count": null,
   "outputs": [],
   "source": [
    "def to_int(df, column):\n",
    "    if df[column].dtype == 'float64' or df[column].dtype == 'int64':\n",
    "        df[column] = df[column].astype(int)"
   ],
   "metadata": {
    "collapsed": false
   }
  },
  {
   "cell_type": "code",
   "execution_count": null,
   "outputs": [],
   "source": [
    "for i in df.columns:\n",
    "    fill_na_mean(df, i)\n",
    "    to_int(df, i)"
   ],
   "metadata": {
    "collapsed": false
   }
  },
  {
   "cell_type": "code",
   "execution_count": 53,
   "outputs": [
    {
     "data": {
      "text/plain": "  first_name last_name  age  sex  pre_movie_score  post_movie_score\n0        Tom     Hanks   63    m                8                10\n1        NaN       NaN   52  NaN                7                 9\n2       Hugh   Jackman   51    m                7                 9\n3      Oprah   Winfrey   66    f                6                 8\n4       Emma     Stone   31    f                7                 9",
      "text/html": "<div>\n<style scoped>\n    .dataframe tbody tr th:only-of-type {\n        vertical-align: middle;\n    }\n\n    .dataframe tbody tr th {\n        vertical-align: top;\n    }\n\n    .dataframe thead th {\n        text-align: right;\n    }\n</style>\n<table border=\"1\" class=\"dataframe\">\n  <thead>\n    <tr style=\"text-align: right;\">\n      <th></th>\n      <th>first_name</th>\n      <th>last_name</th>\n      <th>age</th>\n      <th>sex</th>\n      <th>pre_movie_score</th>\n      <th>post_movie_score</th>\n    </tr>\n  </thead>\n  <tbody>\n    <tr>\n      <th>0</th>\n      <td>Tom</td>\n      <td>Hanks</td>\n      <td>63</td>\n      <td>m</td>\n      <td>8</td>\n      <td>10</td>\n    </tr>\n    <tr>\n      <th>1</th>\n      <td>NaN</td>\n      <td>NaN</td>\n      <td>52</td>\n      <td>NaN</td>\n      <td>7</td>\n      <td>9</td>\n    </tr>\n    <tr>\n      <th>2</th>\n      <td>Hugh</td>\n      <td>Jackman</td>\n      <td>51</td>\n      <td>m</td>\n      <td>7</td>\n      <td>9</td>\n    </tr>\n    <tr>\n      <th>3</th>\n      <td>Oprah</td>\n      <td>Winfrey</td>\n      <td>66</td>\n      <td>f</td>\n      <td>6</td>\n      <td>8</td>\n    </tr>\n    <tr>\n      <th>4</th>\n      <td>Emma</td>\n      <td>Stone</td>\n      <td>31</td>\n      <td>f</td>\n      <td>7</td>\n      <td>9</td>\n    </tr>\n  </tbody>\n</table>\n</div>"
     },
     "execution_count": 53,
     "metadata": {},
     "output_type": "execute_result"
    }
   ],
   "source": [
    "df"
   ],
   "metadata": {
    "collapsed": false
   }
  },
  {
   "cell_type": "code",
   "execution_count": null,
   "outputs": [],
   "source": [],
   "metadata": {
    "collapsed": false
   }
  }
 ],
 "metadata": {
  "kernelspec": {
   "display_name": "Python 3",
   "language": "python",
   "name": "python3"
  },
  "language_info": {
   "codemirror_mode": {
    "name": "ipython",
    "version": 2
   },
   "file_extension": ".py",
   "mimetype": "text/x-python",
   "name": "python",
   "nbconvert_exporter": "python",
   "pygments_lexer": "ipython2",
   "version": "2.7.6"
  }
 },
 "nbformat": 4,
 "nbformat_minor": 0
}
